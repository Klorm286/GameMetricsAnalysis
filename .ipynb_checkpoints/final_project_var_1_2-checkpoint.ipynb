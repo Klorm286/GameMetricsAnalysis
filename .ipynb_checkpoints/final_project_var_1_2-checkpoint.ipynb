{
 "cells": [
  {
   "cell_type": "markdown",
   "metadata": {},
   "source": [
    "# Анализ A/B-теста"
   ]
  },
  {
   "cell_type": "code",
   "execution_count": 26,
   "metadata": {},
   "outputs": [],
   "source": [
    "import pandas as pd\n",
    "from statsmodels.stats.proportion import proportions_ztest\n",
    "from scipy.stats import shapiro\n",
    "from scipy.stats import mannwhitneyu"
   ]
  },
  {
   "cell_type": "markdown",
   "metadata": {},
   "source": [
    "**Загрузка данных**"
   ]
  },
  {
   "cell_type": "code",
   "execution_count": 27,
   "metadata": {},
   "outputs": [
    {
     "data": {
      "text/html": [
       "<div>\n",
       "<style scoped>\n",
       "    .dataframe tbody tr th:only-of-type {\n",
       "        vertical-align: middle;\n",
       "    }\n",
       "\n",
       "    .dataframe tbody tr th {\n",
       "        vertical-align: top;\n",
       "    }\n",
       "\n",
       "    .dataframe thead th {\n",
       "        text-align: right;\n",
       "    }\n",
       "</style>\n",
       "<table border=\"1\" class=\"dataframe\">\n",
       "  <thead>\n",
       "    <tr style=\"text-align: right;\">\n",
       "      <th></th>\n",
       "      <th>user_id</th>\n",
       "      <th>revenue</th>\n",
       "      <th>testgroup</th>\n",
       "    </tr>\n",
       "  </thead>\n",
       "  <tbody>\n",
       "    <tr>\n",
       "      <th>0</th>\n",
       "      <td>1</td>\n",
       "      <td>0</td>\n",
       "      <td>b</td>\n",
       "    </tr>\n",
       "    <tr>\n",
       "      <th>1</th>\n",
       "      <td>2</td>\n",
       "      <td>0</td>\n",
       "      <td>a</td>\n",
       "    </tr>\n",
       "    <tr>\n",
       "      <th>2</th>\n",
       "      <td>3</td>\n",
       "      <td>0</td>\n",
       "      <td>a</td>\n",
       "    </tr>\n",
       "    <tr>\n",
       "      <th>3</th>\n",
       "      <td>4</td>\n",
       "      <td>0</td>\n",
       "      <td>b</td>\n",
       "    </tr>\n",
       "    <tr>\n",
       "      <th>4</th>\n",
       "      <td>5</td>\n",
       "      <td>0</td>\n",
       "      <td>b</td>\n",
       "    </tr>\n",
       "    <tr>\n",
       "      <th>...</th>\n",
       "      <td>...</td>\n",
       "      <td>...</td>\n",
       "      <td>...</td>\n",
       "    </tr>\n",
       "    <tr>\n",
       "      <th>404765</th>\n",
       "      <td>404766</td>\n",
       "      <td>0</td>\n",
       "      <td>a</td>\n",
       "    </tr>\n",
       "    <tr>\n",
       "      <th>404766</th>\n",
       "      <td>404767</td>\n",
       "      <td>0</td>\n",
       "      <td>b</td>\n",
       "    </tr>\n",
       "    <tr>\n",
       "      <th>404767</th>\n",
       "      <td>404768</td>\n",
       "      <td>231</td>\n",
       "      <td>a</td>\n",
       "    </tr>\n",
       "    <tr>\n",
       "      <th>404768</th>\n",
       "      <td>404769</td>\n",
       "      <td>0</td>\n",
       "      <td>a</td>\n",
       "    </tr>\n",
       "    <tr>\n",
       "      <th>404769</th>\n",
       "      <td>404770</td>\n",
       "      <td>0</td>\n",
       "      <td>b</td>\n",
       "    </tr>\n",
       "  </tbody>\n",
       "</table>\n",
       "<p>404770 rows × 3 columns</p>\n",
       "</div>"
      ],
      "text/plain": [
       "        user_id  revenue testgroup\n",
       "0             1        0         b\n",
       "1             2        0         a\n",
       "2             3        0         a\n",
       "3             4        0         b\n",
       "4             5        0         b\n",
       "...         ...      ...       ...\n",
       "404765   404766        0         a\n",
       "404766   404767        0         b\n",
       "404767   404768      231         a\n",
       "404768   404769        0         a\n",
       "404769   404770        0         b\n",
       "\n",
       "[404770 rows x 3 columns]"
      ]
     },
     "execution_count": 27,
     "metadata": {},
     "output_type": "execute_result"
    }
   ],
   "source": [
    "file_path = '/mnt/HC_Volume_18315164/home-jupyter/jupyter-ev-varlamov/homework_tasks/Проект_1_Задание_2.csv'\n",
    "data = pd.read_csv(file_path, delimiter=';')\n",
    "data"
   ]
  },
  {
   "cell_type": "markdown",
   "metadata": {},
   "source": [
    "**Предварительный анализ данных**"
   ]
  },
  {
   "cell_type": "code",
   "execution_count": 28,
   "metadata": {},
   "outputs": [
    {
     "name": "stdout",
     "output_type": "stream",
     "text": [
      "<class 'pandas.core.frame.DataFrame'>\n",
      "RangeIndex: 404770 entries, 0 to 404769\n",
      "Data columns (total 3 columns):\n",
      " #   Column     Non-Null Count   Dtype \n",
      "---  ------     --------------   ----- \n",
      " 0   user_id    404770 non-null  int64 \n",
      " 1   revenue    404770 non-null  int64 \n",
      " 2   testgroup  404770 non-null  object\n",
      "dtypes: int64(2), object(1)\n",
      "memory usage: 9.3+ MB\n"
     ]
    },
    {
     "data": {
      "text/plain": [
       "(   user_id  revenue testgroup\n",
       " 0        1        0         b\n",
       " 1        2        0         a\n",
       " 2        3        0         a\n",
       " 3        4        0         b\n",
       " 4        5        0         b,\n",
       " None,\n",
       "              user_id        revenue\n",
       " count  404770.000000  404770.000000\n",
       " mean   202385.500000      26.083435\n",
       " std    116847.178567     681.652928\n",
       " min         1.000000       0.000000\n",
       " 25%    101193.250000       0.000000\n",
       " 50%    202385.500000       0.000000\n",
       " 75%    303577.750000       0.000000\n",
       " max    404770.000000   37433.000000)"
      ]
     },
     "execution_count": 28,
     "metadata": {},
     "output_type": "execute_result"
    }
   ],
   "source": [
    "data.head(), data.info(), data.describe()"
   ]
  },
  {
   "cell_type": "markdown",
   "metadata": {},
   "source": [
    "**Разделение данных на контрольную и тестовую группы**"
   ]
  },
  {
   "cell_type": "code",
   "execution_count": 29,
   "metadata": {},
   "outputs": [],
   "source": [
    "control_group = data[data['testgroup'] == 'a']\n",
    "test_group = data[data['testgroup'] == 'b']"
   ]
  },
  {
   "cell_type": "markdown",
   "metadata": {},
   "source": [
    "**Общее количество пользователей в каждой группе**"
   ]
  },
  {
   "cell_type": "code",
   "execution_count": 30,
   "metadata": {},
   "outputs": [],
   "source": [
    "total_users_control = len(control_group)\n",
    "total_users_test = len(test_group)"
   ]
  },
  {
   "cell_type": "markdown",
   "metadata": {},
   "source": [
    "**Общий доход в каждой группе**"
   ]
  },
  {
   "cell_type": "code",
   "execution_count": 31,
   "metadata": {},
   "outputs": [],
   "source": [
    "total_revenue_control = control_group['revenue'].sum()\n",
    "total_revenue_test = test_group['revenue'].sum()"
   ]
  },
  {
   "cell_type": "markdown",
   "metadata": {},
   "source": [
    "**Количество платящих пользователей в каждой группе**"
   ]
  },
  {
   "cell_type": "code",
   "execution_count": 32,
   "metadata": {},
   "outputs": [],
   "source": [
    "paying_users_control = control_group[control_group['revenue'] > 0]['user_id'].nunique()\n",
    "paying_users_test = test_group[test_group['revenue'] > 0]['user_id'].nunique()"
   ]
  },
  {
   "cell_type": "markdown",
   "metadata": {},
   "source": [
    "**Вычисление ARPU**"
   ]
  },
  {
   "cell_type": "code",
   "execution_count": 33,
   "metadata": {},
   "outputs": [],
   "source": [
    "arpu_control = total_revenue_control / total_users_control\n",
    "arpu_test = total_revenue_test / total_users_test"
   ]
  },
  {
   "cell_type": "markdown",
   "metadata": {},
   "source": [
    "**Вычисление конверсии**"
   ]
  },
  {
   "cell_type": "code",
   "execution_count": 34,
   "metadata": {},
   "outputs": [],
   "source": [
    "cr_control = paying_users_control / total_users_control\n",
    "cr_test = paying_users_test / total_users_test"
   ]
  },
  {
   "cell_type": "markdown",
   "metadata": {},
   "source": [
    "**Вывод результатов**"
   ]
  },
  {
   "cell_type": "code",
   "execution_count": 35,
   "metadata": {},
   "outputs": [
    {
     "name": "stdout",
     "output_type": "stream",
     "text": [
      "ARPU в контрольной группе: 25.413719736965806\n",
      "ARPU в тестовой группе: 26.75128659327863\n",
      "Конверсия в контрольной группе: 0.009539690157988749\n",
      "Конверсия в тестовой группе: 0.008906235351586593\n"
     ]
    }
   ],
   "source": [
    "print(f\"ARPU в контрольной группе: {arpu_control}\")\n",
    "print(f\"ARPU в тестовой группе: {arpu_test}\")\n",
    "print(f\"Конверсия в контрольной группе: {cr_control}\")\n",
    "print(f\"Конверсия в тестовой группе: {cr_test}\")"
   ]
  },
  {
   "cell_type": "markdown",
   "metadata": {},
   "source": [
    "**Сравнение ARPU**"
   ]
  },
  {
   "cell_type": "markdown",
   "metadata": {},
   "source": [
    "Для сравнения ARPU между двумя группами (контрольной и тестовой) можно использовать t-тест для двух выборок. ARPU является непрерывной метрикой, и t-тест подходит для сравнения средних значений двух независимых выборок, если данные примерно **нормальны** и дисперсии примерно равны. Проверим нормальность данных с помощью теста Шапиро-Уилка."
   ]
  },
  {
   "cell_type": "markdown",
   "metadata": {},
   "source": [
    "**Проверка нормальности для ARPU данных**"
   ]
  },
  {
   "cell_type": "code",
   "execution_count": 13,
   "metadata": {},
   "outputs": [
    {
     "name": "stdout",
     "output_type": "stream",
     "text": [
      "Shapiro-Wilk тест для ARPU контрольной группы: statistic=0.008876502513885498, p-value=0.0\n",
      "Shapiro-Wilk тест для ARPU тестовой группы: statistic=0.06588172912597656, p-value=0.0\n"
     ]
    },
    {
     "name": "stderr",
     "output_type": "stream",
     "text": [
      "/opt/tljh/user/lib/python3.7/site-packages/scipy/stats/morestats.py:1760: UserWarning: p-value may not be accurate for N > 5000.\n",
      "  warnings.warn(\"p-value may not be accurate for N > 5000.\")\n"
     ]
    }
   ],
   "source": [
    "shapiro_control_arpu = shapiro(control_group['revenue'])\n",
    "shapiro_test_arpu = shapiro(test_group['revenue'])\n",
    "\n",
    "print(f\"Shapiro-Wilk тест для ARPU контрольной группы: statistic={shapiro_control_arpu.statistic}, p-value={shapiro_control_arpu.pvalue}\")\n",
    "print(f\"Shapiro-Wilk тест для ARPU тестовой группы: statistic={shapiro_test_arpu.statistic}, p-value={shapiro_test_arpu.pvalue}\")"
   ]
  },
  {
   "cell_type": "markdown",
   "metadata": {},
   "source": [
    "Результаты теста Шапиро-Уилка показывают, что данные для ARPU не следуют нормальному распределению (p-value = 0.0). В этом случае использование непараметрических тестов, таких как тест Манна-Уитни, будет более уместным."
   ]
  },
  {
   "cell_type": "markdown",
   "metadata": {},
   "source": [
    "**Сравнение ARPU с использованием теста Манна-Уитни**"
   ]
  },
  {
   "cell_type": "code",
   "execution_count": 21,
   "metadata": {},
   "outputs": [
    {
     "name": "stdout",
     "output_type": "stream",
     "text": [
      "Тест Манна-Уитни для ARPU: statistic=20491259376.0, p-value=0.06269701316074398\n"
     ]
    }
   ],
   "source": [
    "arpu_mannwhitney_result = mannwhitneyu(control_group['revenue'], test_group['revenue'], alternative='two-sided')\n",
    "\n",
    "print(f\"Тест Манна-Уитни для ARPU: statistic={arpu_mannwhitney_result.statistic}, p-value={arpu_mannwhitney_result.pvalue}\")"
   ]
  },
  {
   "cell_type": "markdown",
   "metadata": {},
   "source": [
    "**Сравнение конверсии**"
   ]
  },
  {
   "cell_type": "markdown",
   "metadata": {},
   "source": [
    "Конверсия является долей, и z-тест для пропорций подходит для сравнения двух пропорций из независимых выборок."
   ]
  },
  {
   "cell_type": "code",
   "execution_count": 15,
   "metadata": {},
   "outputs": [
    {
     "name": "stdout",
     "output_type": "stream",
     "text": [
      "Z-тест для конверсии: statistic=2.108028495889841, p-value=0.035028524642854865\n"
     ]
    }
   ],
   "source": [
    "count = [paying_users_control, paying_users_test]\n",
    "nobs = [total_users_control, total_users_test]\n",
    "\n",
    "conversion_ztest_result = proportions_ztest(count, nobs)\n",
    "\n",
    "print(f\"Z-тест для конверсии: statistic={conversion_ztest_result[0]}, p-value={conversion_ztest_result[1]}\")"
   ]
  },
  {
   "cell_type": "markdown",
   "metadata": {},
   "source": [
    "**Основные результаты**:\n",
    "\n",
    "1. **ARPU**: в тестовой группе выше, но различие не статистически значимо на уровне 0.05 (p-value = 0.0627).\n",
    "\n",
    "2. **Конверсия**: в тестовой группе ниже, и это различие статистически значимо (p-value = 0.035).\n",
    "\n",
    "**Вывод**:\n",
    "\n",
    "Так как ARPU в тестовой группе увеличилась незначительно, а конверсия значительно уменьшилась, распространять тестовый набор акционных предложений на всех пользователей **не рекомендуется**."
   ]
  }
 ],
 "metadata": {
  "kernelspec": {
   "display_name": "Python 3",
   "language": "python",
   "name": "python3"
  },
  "language_info": {
   "codemirror_mode": {
    "name": "ipython",
    "version": 3
   },
   "file_extension": ".py",
   "mimetype": "text/x-python",
   "name": "python",
   "nbconvert_exporter": "python",
   "pygments_lexer": "ipython3",
   "version": "3.7.3"
  }
 },
 "nbformat": 4,
 "nbformat_minor": 4
}
